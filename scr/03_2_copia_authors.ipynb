{
 "cells": [
  {
   "cell_type": "markdown",
   "id": "8001d42e",
   "metadata": {},
   "source": [
    "### Authors as species"
   ]
  },
  {
   "cell_type": "code",
   "execution_count": 1,
   "id": "5b753fdc",
   "metadata": {},
   "outputs": [],
   "source": [
    "import os\n",
    "import glob\n",
    "\n",
    "import matplotlib.pyplot as plt\n",
    "\n",
    "import pandas as pd\n",
    "\n",
    "import numpy as np\n",
    "np.random.seed(1234)"
   ]
  },
  {
   "cell_type": "code",
   "execution_count": 2,
   "id": "2aca64f8",
   "metadata": {},
   "outputs": [],
   "source": [
    "import copia.utils as u\n",
    "from copia.richness import *\n",
    "\n",
    "from copia.utils import survival_ratio\n",
    "from copia.utils import to_abundance, basic_stats\n",
    "\n",
    "from copia.richness import species_accumulation\n",
    "\n",
    "from copia.plot import abundance_histogram, accumulation_curve, multi_kde, survival_errorbar"
   ]
  },
  {
   "cell_type": "code",
   "execution_count": 3,
   "id": "651b8884",
   "metadata": {},
   "outputs": [],
   "source": [
    "plt.rcParams['axes.spines.right'] = False\n",
    "plt.rcParams['axes.spines.top'] = False\n",
    "plt.rcParams['xtick.top'] = False\n",
    "plt.rcParams['ytick.right'] = False\n",
    "plt.rcParams['ytick.minor.left'] = False"
   ]
  },
  {
   "cell_type": "code",
   "execution_count": 8,
   "id": "6747a00b",
   "metadata": {},
   "outputs": [
    {
     "data": {
      "text/html": [
       "<div>\n",
       "<style scoped>\n",
       "    .dataframe tbody tr th:only-of-type {\n",
       "        vertical-align: middle;\n",
       "    }\n",
       "\n",
       "    .dataframe tbody tr th {\n",
       "        vertical-align: top;\n",
       "    }\n",
       "\n",
       "    .dataframe thead th {\n",
       "        text-align: right;\n",
       "    }\n",
       "</style>\n",
       "<table border=\"1\" class=\"dataframe\">\n",
       "  <thead>\n",
       "    <tr style=\"text-align: right;\">\n",
       "      <th></th>\n",
       "      <th>name</th>\n",
       "      <th>signature</th>\n",
       "    </tr>\n",
       "  </thead>\n",
       "  <tbody>\n",
       "    <tr>\n",
       "      <th>0</th>\n",
       "      <td>АртемьевПавелАлексеевич</td>\n",
       "      <td>nlr_1</td>\n",
       "    </tr>\n",
       "    <tr>\n",
       "      <th>1</th>\n",
       "      <td>АртемьевПавелАлексеевич</td>\n",
       "      <td>rsl</td>\n",
       "    </tr>\n",
       "    <tr>\n",
       "      <th>2</th>\n",
       "      <td>АртемьевПавелАлексеевич</td>\n",
       "      <td>roz_1</td>\n",
       "    </tr>\n",
       "    <tr>\n",
       "      <th>3</th>\n",
       "      <td>БатюшковКонстантинНиколаевич</td>\n",
       "      <td>nlr_1</td>\n",
       "    </tr>\n",
       "    <tr>\n",
       "      <th>4</th>\n",
       "      <td>БатюшковКонстантинНиколаевич</td>\n",
       "      <td>rsl</td>\n",
       "    </tr>\n",
       "    <tr>\n",
       "      <th>5</th>\n",
       "      <td>БатюшковКонстантинНиколаевич</td>\n",
       "      <td>roz_1</td>\n",
       "    </tr>\n",
       "    <tr>\n",
       "      <th>6</th>\n",
       "      <td>БатюшковКонстантинНиколаевич</td>\n",
       "      <td>us_harvard</td>\n",
       "    </tr>\n",
       "    <tr>\n",
       "      <th>7</th>\n",
       "      <td>БатюшковКонстантинНиколаевич</td>\n",
       "      <td>cz_slk</td>\n",
       "    </tr>\n",
       "    <tr>\n",
       "      <th>8</th>\n",
       "      <td>БатюшковКонстантинНиколаевич</td>\n",
       "      <td>pl_bn</td>\n",
       "    </tr>\n",
       "    <tr>\n",
       "      <th>9</th>\n",
       "      <td>БатюшковКонстантинНиколаевич</td>\n",
       "      <td>pl_buw</td>\n",
       "    </tr>\n",
       "  </tbody>\n",
       "</table>\n",
       "</div>"
      ],
      "text/plain": [
       "                           name   signature\n",
       "0       АртемьевПавелАлексеевич       nlr_1\n",
       "1       АртемьевПавелАлексеевич         rsl\n",
       "2       АртемьевПавелАлексеевич       roz_1\n",
       "3  БатюшковКонстантинНиколаевич       nlr_1\n",
       "4  БатюшковКонстантинНиколаевич         rsl\n",
       "5  БатюшковКонстантинНиколаевич       roz_1\n",
       "6  БатюшковКонстантинНиколаевич  us_harvard\n",
       "7  БатюшковКонстантинНиколаевич      cz_slk\n",
       "8  БатюшковКонстантинНиколаевич       pl_bn\n",
       "9  БатюшковКонстантинНиколаевич      pl_buw"
      ]
     },
     "execution_count": 8,
     "metadata": {},
     "output_type": "execute_result"
    }
   ],
   "source": [
    "auth = pd.read_csv('/Users/tonya/Documents/thesis1830s/22_02_poetry_collections_biblio/github_main/data/experiment/2_exp_authors.csv')\n",
    "auth = auth.iloc[:,1:]\n",
    "auth.head(10)"
   ]
  },
  {
   "cell_type": "code",
   "execution_count": 9,
   "id": "d89fc671",
   "metadata": {},
   "outputs": [
    {
     "data": {
      "text/plain": [
       "{'f1': 82, 'f2': 80, 'f3': 66, 'f4': 50, 'S': 331, 'n': 961}"
      ]
     },
     "execution_count": 9,
     "metadata": {},
     "output_type": "execute_result"
    }
   ],
   "source": [
    "names = auth['name']\n",
    "abundance = to_abundance(names)\n",
    "\n",
    "basic_stats(abundance)"
   ]
  },
  {
   "cell_type": "code",
   "execution_count": 10,
   "id": "59ffa7ac",
   "metadata": {},
   "outputs": [
    {
     "data": {
      "text/plain": [
       "<AxesSubplot:title={'center':'Sightings histogram'}, xlabel='Species'>"
      ]
     },
     "execution_count": 10,
     "metadata": {},
     "output_type": "execute_result"
    },
    {
     "data": {
      "image/png": "[encoded data removed]",
      "text/plain": [
       "<Figure size 432x288 with 1 Axes>"
      ]
     },
     "metadata": {
      "needs_background": "light"
     },
     "output_type": "display_data"
    }
   ],
   "source": [
    "abundance_histogram(abundance)"
   ]
  },
  {
   "cell_type": "code",
   "execution_count": 11,
   "id": "622e53d4",
   "metadata": {},
   "outputs": [
    {
     "name": "stderr",
     "output_type": "stream",
     "text": [
      "100%|███████████████████████████████████████████| 10/10 [00:14<00:00,  1.43s/it]\n"
     ]
    },
    {
     "data": {
      "text/plain": [
       "<AxesSubplot:title={'center':'authors accumulation plot'}, xlabel='non-unique authors', ylabel='unique authors'>"
      ]
     },
     "execution_count": 11,
     "metadata": {},
     "output_type": "execute_result"
    },
    {
     "data": {
      "image/png": "[encoded data removed]",
      "text/plain": [
       "<Figure size 432x288 with 1 Axes>"
      ]
     },
     "metadata": {
      "needs_background": "light"
     },
     "output_type": "display_data"
    }
   ],
   "source": [
    "accumulation = species_accumulation(abundance, max_steps = 4000, n_iter = 10)\n",
    "\n",
    "accumulation_curve(abundance, accumulation, \n",
    "                   xlabel = \"non-unique authors\", ylabel = \"unique authors\",\n",
    "                   title = \"authors accumulation plot\")"
   ]
  },
  {
   "cell_type": "code",
   "execution_count": 17,
   "id": "b67e22fa",
   "metadata": {},
   "outputs": [
    {
     "name": "stdout",
     "output_type": "stream",
     "text": [
      "Unique authors \n",
      "iChao1 estimation: 382.6172695109261 \n",
      "Chao1: 372.9812695109261\n"
     ]
    }
   ],
   "source": [
    "print('Unique authors \\niChao1 estimation:', diversity(abundance, method = 'iChao1'),\n",
    "     '\\nChao1:', diversity(abundance, method = 'Chao1'))"
   ]
  },
  {
   "cell_type": "code",
   "execution_count": null,
   "id": "611c3bcc",
   "metadata": {},
   "outputs": [],
   "source": []
  }
 ],
 "metadata": {
  "kernelspec": {
   "display_name": "Python 3 (ipykernel)",
   "language": "python",
   "name": "python3"
  },
  "language_info": {
   "codemirror_mode": {
    "name": "ipython",
    "version": 3
   },
   "file_extension": ".py",
   "mimetype": "text/x-python",
   "name": "python",
   "nbconvert_exporter": "python",
   "pygments_lexer": "ipython3",
   "version": "3.9.2"
  }
 },
 "nbformat": 4,
 "nbformat_minor": 5
}
