{
 "cells": [
  {
   "cell_type": "markdown",
   "id": "60677cf1",
   "metadata": {},
   "source": [
    "### Experiment with Copia module: book genres\n",
    "This notebook explores the data on the survival of poetic books (1834-1850) stored in 10 library collections; books are manually provided with general genre tags, the groups are:\n",
    "- col_lyr: poetry collections of lyrical texts (short poems);\n",
    "- col_nar: colletcions of narrative poems (~epic poetry);\n",
    "- sep_lyr: separate issues of one lyrical text (one-two pages brochures with a single poem);\n",
    "- sep_nar: separate issues of one narrative poem;\n",
    "- sep_drama: separate issue of a dramatic text in verse;\n",
    "- alm_ : almanacs and collective issues (may also include prose);"
   ]
  },
  {
   "cell_type": "markdown",
   "id": "b19b8c31",
   "metadata": {},
   "source": [
    "#### Part I: Tests for each book genre for the whole period (1834-1850)"
   ]
  },
  {
   "cell_type": "code",
   "execution_count": 1,
   "id": "71685cc7",
   "metadata": {},
   "outputs": [],
   "source": [
    "import os\n",
    "import glob\n",
    "\n",
    "import matplotlib.pyplot as plt\n",
    "\n",
    "import pandas as pd\n",
    "\n",
    "import numpy as np\n",
    "np.random.seed(1234)"
   ]
  },
  {
   "cell_type": "code",
   "execution_count": 2,
   "id": "f29b5339",
   "metadata": {},
   "outputs": [],
   "source": [
    "import copia.utils as u\n",
    "from copia.richness import *\n",
    "\n",
    "from copia.utils import survival_ratio\n",
    "from copia.utils import to_abundance, basic_stats\n",
    "\n",
    "from copia.richness import species_accumulation\n",
    "\n",
    "from copia.plot import abundance_histogram, accumulation_curve, multi_kde, survival_errorbar"
   ]
  },
  {
   "cell_type": "code",
   "execution_count": 3,
   "id": "1c0f6a6f",
   "metadata": {},
   "outputs": [],
   "source": [
    "plt.rcParams['axes.spines.right'] = False\n",
    "plt.rcParams['axes.spines.top'] = False\n",
    "plt.rcParams['xtick.top'] = False\n",
    "plt.rcParams['ytick.right'] = False\n",
    "plt.rcParams['ytick.minor.left'] = False"
   ]
  },
  {
   "cell_type": "code",
   "execution_count": 4,
   "id": "a1cbc3c0",
   "metadata": {},
   "outputs": [],
   "source": [
    "groups = {}\n",
    "df = None\n",
    "\n",
    "# import all separate .csv tables for the experiment as a dictionary of tables\n",
    "\n",
    "for fh in sorted(glob.glob('/Users/tonya/Documents/thesis1830s/22_02_poetry_collections_biblio/github_main/data/experiment/exp_*.csv')):\n",
    "    df = pd.read_csv(fh)\n",
    "    df = df.iloc[:,1:]\n",
    "    genre = os.path.basename(fh).replace('.csv','').replace('exp_','').lower()\n",
    "    groups[genre] = df[['work', 'signature']]"
   ]
  },
  {
   "cell_type": "code",
   "execution_count": 5,
   "id": "0d148b5e",
   "metadata": {
    "scrolled": true
   },
   "outputs": [
    {
     "data": {
      "text/plain": [
       "{'alm_':                                                   work   signature\n",
       " 0    _1834_49_Фл… Спин.._Незабудка: Московский Альм...       nlr_1\n",
       " 1    _1834_49_Фл… Спин.._Незабудка: Московский Альм...         rsl\n",
       " 2    _1834_49_Фл… Спин.._Незабудка: Московский Альм...       fi_sl\n",
       " 3    _1836_121_NA_Маскерад. Подарок прекрасному пол...       nlr_1\n",
       " 4    _1836_121_NA_Маскерад. Подарок прекрасному пол...         rsl\n",
       " ..                                                 ...         ...\n",
       " 199  _1846_869_NA_Московский литературный и ученый ...      cz_slk\n",
       " 200  _1847_870_NA_Московский литературный и ученый ...       nlr_1\n",
       " 201  _1847_870_NA_Московский литературный и ученый ...         rsl\n",
       " 202  _1847_870_NA_Московский литературный и ученый ...  us_harvard\n",
       " 203  _1847_870_NA_Московский литературный и ученый ...      cz_slk\n",
       " \n",
       " [204 rows x 2 columns],\n",
       " 'col_lyr':                                                   work   signature\n",
       " 0    1834_5_Батюшков К._Сочинения в прозе и стихах ...       nlr_1\n",
       " 1    1834_5_Батюшков К._Сочинения в прозе и стихах ...         rsl\n",
       " 2    1834_5_Батюшков К._Сочинения в прозе и стихах ...       roz_1\n",
       " 3    1834_5_Батюшков К._Сочинения в прозе и стихах ...  us_harvard\n",
       " 4    1834_5_Батюшков К._Сочинения в прозе и стихах ...      cz_slk\n",
       " ..                                                 ...         ...\n",
       " 787  1850_823_Додаев-Магарский И._Стихотворения / [...       nlr_1\n",
       " 788          1850_824_Г.Г.Р._Стихотворения / Г.Г.Р. 1.       nlr_1\n",
       " 789  1850_832_Неудачев И._Стихотворения Иосафа Неуд...       nlr_1\n",
       " 790  1850_843_Севостьянов К._Досуги в стихах и проз...       nlr_1\n",
       " 791  1850_843_Севостьянов К._Досуги в стихах и проз...         rsl\n",
       " \n",
       " [792 rows x 2 columns],\n",
       " 'col_nar':                                                  work   signature\n",
       " 0   1835_67_А. Я-в_Кривой бес. Русская сказка [Сти...       nlr_1\n",
       " 1   1835_79_Пушкин А.С._Поэмы и повести Александра...       nlr_1\n",
       " 2   1835_79_Пушкин А.С._Поэмы и повести Александра...         rsl\n",
       " 3   1835_79_Пушкин А.С._Поэмы и повести Александра...  us_harvard\n",
       " 4   1835_79_Пушкин А.С._Поэмы и повести Александра...      cz_slk\n",
       " ..                                                ...         ...\n",
       " 70  1847_564_П.В.Ш._Москва 1147-1847 : Рассказы мо...      cz_slk\n",
       " 71  1834_681_Машков П._Повести [и мечты] / [Соч.] ...       nlr_1\n",
       " 72  1835_866_Никитин А._Повести Александра Никитин...       nlr_1\n",
       " 73  1835_866_Никитин А._Повести Александра Никитин...         rsl\n",
       " 74  1835_866_Никитин А._Повести Александра Никитин...      cz_slk\n",
       " \n",
       " [75 rows x 2 columns],\n",
       " 'sep_drama':                                                   work   signature\n",
       " 0    1834_12_Н. К._Джакобо Санназар : Драм. фантази...       nlr_1\n",
       " 1    1834_12_Н. К._Джакобо Санназар : Драм. фантази...         rsl\n",
       " 2    1834_12_Н. К._Джакобо Санназар : Драм. фантази...       roz_1\n",
       " 3    1834_12_Н. К._Джакобо Санназар : Драм. фантази...  us_harvard\n",
       " 4    1834_12_Н. К._Джакобо Санназар : Драм. фантази...       fi_sl\n",
       " ..                                                 ...         ...\n",
       " 102  1836_850_NA_Соперники : комедия в одном действ...         rsl\n",
       " 103  1836_850_NA_Соперники : комедия в одном действ...  us_harvard\n",
       " 104  1850_853_Ростопчина Е._Нелюдимка : Драма в 5 д...       nlr_1\n",
       " 105  1850_853_Ростопчина Е._Нелюдимка : Драма в 5 д...    ee_ester\n",
       " 106  1841_871_Филимонов Н._Князь Серебряный, или, О...  us_harvard\n",
       " \n",
       " [107 rows x 2 columns],\n",
       " 'sep_lyr':                                                   work signature\n",
       " 0    1834_32_Никонов В._Песнь русского : В 17 день ...     nlr_1\n",
       " 1    1834_33_Виноградов Н._Куплеты, петые на Черныш...     nlr_1\n",
       " 2    1834_34_NA_Стихи для польского, [на случай при...     nlr_1\n",
       " 3    1834_36_Бакунин В._Воспоминания при взгляде на...     nlr_1\n",
       " 4    1834_36_Бакунин В._Воспоминания при взгляде на...       rsl\n",
       " ..                                                 ...       ...\n",
       " 238  1834_857_NA_Его сиятельству графу Карлу Федоро...  ee_ester\n",
       " 239  1837_858_Левицкий И._Стих в честь его преосвящ...     pl_bn\n",
       " 240  1838_859_Левицкий И._Стих во часть его превосх...     pl_bn\n",
       " 241  1838_860_Левицкий И._Стих во честь его преосвя...     pl_bn\n",
       " 242  1841_861_Левицкий И._Стих во честь Григория Ях...     pl_bn\n",
       " \n",
       " [243 rows x 2 columns],\n",
       " 'sep_nar':                                                   work signature\n",
       " 0    1834_1_Артемьев П._Страдалец: Повесть в стихах...     nlr_1\n",
       " 1    1834_1_Артемьев П._Страдалец: Повесть в стихах...       rsl\n",
       " 2    1834_1_Артемьев П._Страдалец: Повесть в стихах...     roz_1\n",
       " 3    1834_6_Александр Б._Милана : Русская баллада, ...     nlr_1\n",
       " 4    1834_6_Александр Б._Милана : Русская баллада, ...     roz_1\n",
       " ..                                                 ...       ...\n",
       " 391  1850_831_NA_Сказка о сыне откупщика, Иване-Най...     nlr_1\n",
       " 392  1850_835_Вельтман А._Златой и Бела : Чеш. сказ...     nlr_1\n",
       " 393  1850_835_Вельтман А._Златой и Бела : Чеш. сказ...       rsl\n",
       " 394  1850_836_ъ...а Е.К._Женитьба царя Михаила Федо...     nlr_1\n",
       " 395  1850_838_Потапов В._Кот в сапогах : Рус. нар. ...     nlr_1\n",
       " \n",
       " [396 rows x 2 columns]}"
      ]
     },
     "execution_count": 5,
     "metadata": {},
     "output_type": "execute_result"
    }
   ],
   "source": [
    "groups"
   ]
  },
  {
   "cell_type": "code",
   "execution_count": 6,
   "id": "23866f8f",
   "metadata": {},
   "outputs": [
    {
     "data": {
      "text/html": [
       "<div>\n",
       "<style scoped>\n",
       "    .dataframe tbody tr th:only-of-type {\n",
       "        vertical-align: middle;\n",
       "    }\n",
       "\n",
       "    .dataframe tbody tr th {\n",
       "        vertical-align: top;\n",
       "    }\n",
       "\n",
       "    .dataframe thead th {\n",
       "        text-align: right;\n",
       "    }\n",
       "</style>\n",
       "<table border=\"1\" class=\"dataframe\">\n",
       "  <thead>\n",
       "    <tr style=\"text-align: right;\">\n",
       "      <th></th>\n",
       "      <th>group</th>\n",
       "      <th>f1</th>\n",
       "      <th>f2</th>\n",
       "      <th>f3</th>\n",
       "      <th>f4</th>\n",
       "      <th>S</th>\n",
       "      <th>n</th>\n",
       "      <th>lib</th>\n",
       "    </tr>\n",
       "  </thead>\n",
       "  <tbody>\n",
       "    <tr>\n",
       "      <th>0</th>\n",
       "      <td>alm_</td>\n",
       "      <td>5</td>\n",
       "      <td>17</td>\n",
       "      <td>23</td>\n",
       "      <td>11</td>\n",
       "      <td>66</td>\n",
       "      <td>204</td>\n",
       "      <td>8</td>\n",
       "    </tr>\n",
       "    <tr>\n",
       "      <th>1</th>\n",
       "      <td>col_lyr</td>\n",
       "      <td>63</td>\n",
       "      <td>64</td>\n",
       "      <td>55</td>\n",
       "      <td>50</td>\n",
       "      <td>273</td>\n",
       "      <td>792</td>\n",
       "      <td>10</td>\n",
       "    </tr>\n",
       "    <tr>\n",
       "      <th>2</th>\n",
       "      <td>col_nar</td>\n",
       "      <td>2</td>\n",
       "      <td>4</td>\n",
       "      <td>2</td>\n",
       "      <td>5</td>\n",
       "      <td>20</td>\n",
       "      <td>75</td>\n",
       "      <td>8</td>\n",
       "    </tr>\n",
       "    <tr>\n",
       "      <th>3</th>\n",
       "      <td>sep_drama</td>\n",
       "      <td>4</td>\n",
       "      <td>12</td>\n",
       "      <td>9</td>\n",
       "      <td>8</td>\n",
       "      <td>37</td>\n",
       "      <td>107</td>\n",
       "      <td>8</td>\n",
       "    </tr>\n",
       "    <tr>\n",
       "      <th>4</th>\n",
       "      <td>sep_lyr</td>\n",
       "      <td>125</td>\n",
       "      <td>29</td>\n",
       "      <td>13</td>\n",
       "      <td>4</td>\n",
       "      <td>172</td>\n",
       "      <td>243</td>\n",
       "      <td>9</td>\n",
       "    </tr>\n",
       "    <tr>\n",
       "      <th>5</th>\n",
       "      <td>sep_nar</td>\n",
       "      <td>59</td>\n",
       "      <td>64</td>\n",
       "      <td>32</td>\n",
       "      <td>15</td>\n",
       "      <td>180</td>\n",
       "      <td>396</td>\n",
       "      <td>10</td>\n",
       "    </tr>\n",
       "  </tbody>\n",
       "</table>\n",
       "</div>"
      ],
      "text/plain": [
       "       group   f1  f2  f3  f4    S    n  lib\n",
       "0       alm_    5  17  23  11   66  204    8\n",
       "1    col_lyr   63  64  55  50  273  792   10\n",
       "2    col_nar    2   4   2   5   20   75    8\n",
       "3  sep_drama    4  12   9   8   37  107    8\n",
       "4    sep_lyr  125  29  13   4  172  243    9\n",
       "5    sep_nar   59  64  32  15  180  396   10"
      ]
     },
     "execution_count": 6,
     "metadata": {},
     "output_type": "execute_result"
    }
   ],
   "source": [
    "# Basic stats calculation\n",
    "\n",
    "stats = []\n",
    "\n",
    "for genre, df in groups.items():\n",
    "    abundance = u.to_abundance(df['work']) # convert to abundance data\n",
    "    s = u.basic_stats(abundance) # basic stats function\n",
    "    d = {'group': genre}\n",
    "    # take f3 and f4 for well-survived groups\n",
    "    for k in ('f1', 'f2', 'f3', 'f4', 'S', 'n'):\n",
    "        d[k] = s[k]\n",
    "    d['lib'] = len(set(df['signature']))\n",
    "    stats.append(d)\n",
    "    \n",
    "# Conversion to df for easier use\n",
    "stats_df = pd.DataFrame(stats)\n",
    "stats_df"
   ]
  },
  {
   "cell_type": "code",
   "execution_count": 7,
   "id": "f039553c",
   "metadata": {},
   "outputs": [
    {
     "name": "stdout",
     "output_type": "stream",
     "text": [
      "genre: Alm_\n",
      " -  chao1 -> 66.73168973471742\n",
      " -  ichao1 -> 66.73168973471742\n",
      " -  egghe_proot -> 66.08182844768388\n",
      "genre: Col_Lyr\n",
      " -  chao1 -> 303.9686612215909\n",
      " -  ichao1 -> 311.61366122159086\n",
      " -  egghe_proot -> 314.2013922337636\n",
      "genre: Col_Nar\n",
      " -  chao1 -> 20.493333333333332\n",
      " -  ichao1 -> 20.613333333333333\n",
      " -  egghe_proot -> 20.38326520587232\n",
      "genre: Sep_Drama\n",
      " -  chao1 -> 37.66043613707165\n",
      " -  ichao1 -> 37.66043613707165\n",
      " -  egghe_proot -> 37.09943811164952\n",
      "genre: Sep_Lyr\n",
      " -  chao1 -> 440.28792393926494\n",
      " -  ichao1 -> 503.56136143926494\n",
      " -  egghe_proot -> 461.45221580384424\n",
      "genre: Sep_Nar\n",
      " -  chao1 -> 207.12663746843435\n",
      " -  ichao1 -> 207.12663746843435\n",
      " -  egghe_proot -> 203.24546773647992\n"
     ]
    }
   ],
   "source": [
    "# Estimations for original works with different estimators\n",
    "\n",
    "populations = {}\n",
    "\n",
    "for genre, df in groups.items():\n",
    "    abundance = u.to_abundance(df['work'])\n",
    "    populations[genre.title()] = abundance\n",
    "\n",
    "for genre, population in populations.items():\n",
    "    print('genre:', genre)\n",
    "    for m in ('chao1', 'ichao1', 'egghe_proot'):\n",
    "        print(' - ', m, '->', diversity(population, method = m))"
   ]
  },
  {
   "cell_type": "code",
   "execution_count": 48,
   "id": "d340f867",
   "metadata": {},
   "outputs": [
    {
     "name": "stdout",
     "output_type": "stream",
     "text": [
      "genre: Alm_\n",
      " - works :  66.73168973471742\n",
      " - documents :  282.8868788868789\n",
      "genre: Col_Lyr\n",
      " - works :  303.9686612215909\n",
      " - documents :  3224.5512325512327\n",
      "genre: Col_Nar\n",
      " - works :  20.493333333333332\n",
      " - documents :  107.7975327975328\n",
      "genre: Sep_Drama\n",
      " - works :  37.66043613707165\n",
      " - documents :  150.12104312104313\n",
      "genre: Sep_Lyr\n",
      " - works :  440.28792393926494\n",
      " - documents :  4684.218241218241\n",
      "genre: Sep_Nar\n",
      " - works :  207.12663746843435\n",
      " - documents :  1511.2559152559152\n"
     ]
    }
   ],
   "source": [
    "# Minimum additional sample (lower bound on the true population size)\n",
    "\n",
    "for genre, population in populations.items():\n",
    "    print('genre:', genre)\n",
    "    print(' - works : ', diversity(population, method = 'chao1'))\n",
    "    print(' - documents : ', diversity(population, method = 'minsample'))"
   ]
  },
  {
   "cell_type": "code",
   "execution_count": 8,
   "id": "9354a237",
   "metadata": {},
   "outputs": [
    {
     "name": "stderr",
     "output_type": "stream",
     "text": [
      "100%|██████████████████████████████████████| 1000/1000 [00:01<00:00, 677.54it/s]\n",
      "100%|██████████████████████████████████████| 1000/1000 [00:01<00:00, 839.87it/s]\n",
      "100%|██████████████████████████████████████| 1000/1000 [00:01<00:00, 818.78it/s]\n",
      "100%|██████████████████████████████████████| 1000/1000 [00:01<00:00, 839.22it/s]\n",
      "100%|██████████████████████████████████████| 1000/1000 [00:01<00:00, 836.35it/s]\n",
      "100%|██████████████████████████████████████| 1000/1000 [00:01<00:00, 841.81it/s]\n"
     ]
    }
   ],
   "source": [
    "# Survival ratios on density plot: works\n",
    "\n",
    "wsurvival = {}\n",
    "for genre, population in populations.items():\n",
    "    wsurvival[genre] = survival_ratio(population, method = 'chao1')"
   ]
  },
  {
   "cell_type": "code",
   "execution_count": 10,
   "id": "beaf14d4",
   "metadata": {},
   "outputs": [
    {
     "data": {
      "image/png": "[encoded data removed]",
      "text/plain": [
       "<Figure size 432x288 with 1 Axes>"
      ]
     },
     "metadata": {
      "needs_background": "light"
     },
     "output_type": "display_data"
    }
   ],
   "source": [
    "surv_density_w = multi_kde(wsurvival)\n",
    "surv_density_w.set_xlabel('Survival ratio (works)')\n",
    "surv_density_w.set_yticklabels([])\n",
    "surv_density_w.tick_params(axis = 'y', which = 'both', left = False)\n",
    "surv_density_w.spines['left'].set_visible(False)\n",
    "\n",
    "plt.savefig(\"/Users/tonya/Documents/thesis1830s/22_02_poetry_collections_biblio/github_main/plots/02_work_surv_density.pdf\")"
   ]
  },
  {
   "cell_type": "markdown",
   "id": "b35ead00",
   "metadata": {},
   "source": [
    "### Accumulation curves\n",
    "- Lowest survival: \n",
    "    - sep_lyr\n",
    "    - sep_nar\n",
    "    - col_lyr"
   ]
  },
  {
   "cell_type": "code",
   "execution_count": 105,
   "id": "608d1440",
   "metadata": {
    "scrolled": true
   },
   "outputs": [
    {
     "data": {
      "text/plain": [
       "{'alm_':                                                   work   signature\n",
       " 0    _1834_49_Фл… Спин.._Незабудка: Московский Альм...       nlr_1\n",
       " 1    _1834_49_Фл… Спин.._Незабудка: Московский Альм...         rsl\n",
       " 2    _1834_49_Фл… Спин.._Незабудка: Московский Альм...       fi_sl\n",
       " 3    _1836_121_NA_Маскерад. Подарок прекрасному пол...       nlr_1\n",
       " 4    _1836_121_NA_Маскерад. Подарок прекрасному пол...         rsl\n",
       " ..                                                 ...         ...\n",
       " 199  _1846_869_NA_Московский литературный и ученый ...      cz_slk\n",
       " 200  _1847_870_NA_Московский литературный и ученый ...       nlr_1\n",
       " 201  _1847_870_NA_Московский литературный и ученый ...         rsl\n",
       " 202  _1847_870_NA_Московский литературный и ученый ...  us_harvard\n",
       " 203  _1847_870_NA_Московский литературный и ученый ...      cz_slk\n",
       " \n",
       " [204 rows x 2 columns],\n",
       " 'col_lyr':                                                   work   signature\n",
       " 0    1834_5_Батюшков К._Сочинения в прозе и стихах ...       nlr_1\n",
       " 1    1834_5_Батюшков К._Сочинения в прозе и стихах ...         rsl\n",
       " 2    1834_5_Батюшков К._Сочинения в прозе и стихах ...       roz_1\n",
       " 3    1834_5_Батюшков К._Сочинения в прозе и стихах ...  us_harvard\n",
       " 4    1834_5_Батюшков К._Сочинения в прозе и стихах ...      cz_slk\n",
       " ..                                                 ...         ...\n",
       " 787  1850_823_Додаев-Магарский И._Стихотворения / [...       nlr_1\n",
       " 788          1850_824_Г.Г.Р._Стихотворения / Г.Г.Р. 1.       nlr_1\n",
       " 789  1850_832_Неудачев И._Стихотворения Иосафа Неуд...       nlr_1\n",
       " 790  1850_843_Севостьянов К._Досуги в стихах и проз...       nlr_1\n",
       " 791  1850_843_Севостьянов К._Досуги в стихах и проз...         rsl\n",
       " \n",
       " [792 rows x 2 columns],\n",
       " 'col_nar':                                                  work   signature\n",
       " 0   1835_67_А. Я-в_Кривой бес. Русская сказка [Сти...       nlr_1\n",
       " 1   1835_79_Пушкин А.С._Поэмы и повести Александра...       nlr_1\n",
       " 2   1835_79_Пушкин А.С._Поэмы и повести Александра...         rsl\n",
       " 3   1835_79_Пушкин А.С._Поэмы и повести Александра...  us_harvard\n",
       " 4   1835_79_Пушкин А.С._Поэмы и повести Александра...      cz_slk\n",
       " ..                                                ...         ...\n",
       " 70  1847_564_П.В.Ш._Москва 1147-1847 : Рассказы мо...      cz_slk\n",
       " 71  1834_681_Машков П._Повести [и мечты] / [Соч.] ...       nlr_1\n",
       " 72  1835_866_Никитин А._Повести Александра Никитин...       nlr_1\n",
       " 73  1835_866_Никитин А._Повести Александра Никитин...         rsl\n",
       " 74  1835_866_Никитин А._Повести Александра Никитин...      cz_slk\n",
       " \n",
       " [75 rows x 2 columns],\n",
       " 'sep_drama':                                                   work   signature\n",
       " 0    1834_12_Н. К._Джакобо Санназар : Драм. фантази...       nlr_1\n",
       " 1    1834_12_Н. К._Джакобо Санназар : Драм. фантази...         rsl\n",
       " 2    1834_12_Н. К._Джакобо Санназар : Драм. фантази...       roz_1\n",
       " 3    1834_12_Н. К._Джакобо Санназар : Драм. фантази...  us_harvard\n",
       " 4    1834_12_Н. К._Джакобо Санназар : Драм. фантази...       fi_sl\n",
       " ..                                                 ...         ...\n",
       " 102  1836_850_NA_Соперники : комедия в одном действ...         rsl\n",
       " 103  1836_850_NA_Соперники : комедия в одном действ...  us_harvard\n",
       " 104  1850_853_Ростопчина Е._Нелюдимка : Драма в 5 д...       nlr_1\n",
       " 105  1850_853_Ростопчина Е._Нелюдимка : Драма в 5 д...    ee_ester\n",
       " 106  1841_871_Филимонов Н._Князь Серебряный, или, О...  us_harvard\n",
       " \n",
       " [107 rows x 2 columns],\n",
       " 'sep_lyr':                                                   work signature\n",
       " 0    1834_32_Никонов В._Песнь русского : В 17 день ...     nlr_1\n",
       " 1    1834_33_Виноградов Н._Куплеты, петые на Черныш...     nlr_1\n",
       " 2    1834_34_NA_Стихи для польского, [на случай при...     nlr_1\n",
       " 3    1834_36_Бакунин В._Воспоминания при взгляде на...     nlr_1\n",
       " 4    1834_36_Бакунин В._Воспоминания при взгляде на...       rsl\n",
       " ..                                                 ...       ...\n",
       " 238  1834_857_NA_Его сиятельству графу Карлу Федоро...  ee_ester\n",
       " 239  1837_858_Левицкий И._Стих в честь его преосвящ...     pl_bn\n",
       " 240  1838_859_Левицкий И._Стих во часть его превосх...     pl_bn\n",
       " 241  1838_860_Левицкий И._Стих во честь его преосвя...     pl_bn\n",
       " 242  1841_861_Левицкий И._Стих во честь Григория Ях...     pl_bn\n",
       " \n",
       " [243 rows x 2 columns],\n",
       " 'sep_nar':                                                   work signature\n",
       " 0    1834_1_Артемьев П._Страдалец: Повесть в стихах...     nlr_1\n",
       " 1    1834_1_Артемьев П._Страдалец: Повесть в стихах...       rsl\n",
       " 2    1834_1_Артемьев П._Страдалец: Повесть в стихах...     roz_1\n",
       " 3    1834_6_Александр Б._Милана : Русская баллада, ...     nlr_1\n",
       " 4    1834_6_Александр Б._Милана : Русская баллада, ...     roz_1\n",
       " ..                                                 ...       ...\n",
       " 391  1850_831_NA_Сказка о сыне откупщика, Иване-Най...     nlr_1\n",
       " 392  1850_835_Вельтман А._Златой и Бела : Чеш. сказ...     nlr_1\n",
       " 393  1850_835_Вельтман А._Златой и Бела : Чеш. сказ...       rsl\n",
       " 394  1850_836_ъ...а Е.К._Женитьба царя Михаила Федо...     nlr_1\n",
       " 395  1850_838_Потапов В._Кот в сапогах : Рус. нар. ...     nlr_1\n",
       " \n",
       " [396 rows x 2 columns]}"
      ]
     },
     "execution_count": 105,
     "metadata": {},
     "output_type": "execute_result"
    }
   ],
   "source": [
    "groups"
   ]
  },
  {
   "cell_type": "code",
   "execution_count": 6,
   "id": "b1fc8f73",
   "metadata": {},
   "outputs": [
    {
     "name": "stdout",
     "output_type": "stream",
     "text": [
      "alm_\n",
      "col_lyr\n",
      "col_nar\n",
      "sep_drama\n",
      "sep_lyr\n",
      "sep_nar\n"
     ]
    },
    {
     "data": {
      "image/png": "[encoded data removed]",
      "text/plain": [
       "<Figure size 432x288 with 1 Axes>"
      ]
     },
     "metadata": {
      "needs_background": "light"
     },
     "output_type": "display_data"
    },
    {
     "data": {
      "image/png": "[encoded data removed]",
      "text/plain": [
       "<Figure size 432x288 with 1 Axes>"
      ]
     },
     "metadata": {
      "needs_background": "light"
     },
     "output_type": "display_data"
    },
    {
     "data": {
      "image/png": "[encoded data removed]",
      "text/plain": [
       "<Figure size 432x288 with 1 Axes>"
      ]
     },
     "metadata": {
      "needs_background": "light"
     },
     "output_type": "display_data"
    },
    {
     "data": {
      "image/png": "[encoded data removed]",
      "text/plain": [
       "<Figure size 432x288 with 1 Axes>"
      ]
     },
     "metadata": {
      "needs_background": "light"
     },
     "output_type": "display_data"
    },
    {
     "data": {
      "image/png": "[encoded data removed]",
      "text/plain": [
       "<Figure size 432x288 with 1 Axes>"
      ]
     },
     "metadata": {
      "needs_background": "light"
     },
     "output_type": "display_data"
    },
    {
     "data": {
      "image/png": "[encoded data removed]",
      "text/plain": [
       "<Figure size 432x288 with 1 Axes>"
      ]
     },
     "metadata": {
      "needs_background": "light"
     },
     "output_type": "display_data"
    }
   ],
   "source": [
    "# fast viz: sightings hist\n",
    "\n",
    "for genre, df in groups.items():\n",
    "    print(genre)\n",
    "    abundance = u.to_abundance(df['work'])\n",
    "    abundance_histogram(abundance)"
   ]
  },
  {
   "cell_type": "code",
   "execution_count": 121,
   "id": "715916a2",
   "metadata": {},
   "outputs": [
    {
     "name": "stderr",
     "output_type": "stream",
     "text": [
      "/var/folders/vf/dhn9ykks0l967yj396ph6x9h0000gn/T/ipykernel_54213/3008140766.py:3: DeprecationWarning: inspect.getargspec() is deprecated since Python 3.0, use inspect.signature() or inspect.getfullargspec()\n",
      "  inspect.getargspec(abundance_histogram).args\n"
     ]
    },
    {
     "data": {
      "text/plain": [
       "['x', 'ax', 'figsize', 'trendline']"
      ]
     },
     "execution_count": 121,
     "metadata": {},
     "output_type": "execute_result"
    }
   ],
   "source": [
    "import inspect\n",
    "\n",
    "inspect.getargspec(abundance_histogram).args"
   ]
  },
  {
   "cell_type": "code",
   "execution_count": 8,
   "id": "71b0bae4",
   "metadata": {},
   "outputs": [
    {
     "name": "stderr",
     "output_type": "stream",
     "text": [
      "100%|███████████████████████████████████████████| 10/10 [00:02<00:00,  4.42it/s]\n",
      "100%|███████████████████████████████████████████| 10/10 [00:10<00:00,  1.01s/it]\n",
      " 10%|████▍                                       | 1/10 [00:01<00:09,  1.10s/it]/Users/tonya/miniforge3/lib/python3.9/site-packages/copia/stats.py:166: RuntimeWarning: invalid value encountered in double_scalars\n",
      "  A = n * f0 / (n * f0 + f1)\n",
      "100%|███████████████████████████████████████████| 10/10 [00:01<00:00,  6.40it/s]\n",
      "100%|███████████████████████████████████████████| 10/10 [00:01<00:00,  6.14it/s]\n",
      "100%|███████████████████████████████████████████| 10/10 [00:03<00:00,  3.16it/s]\n",
      "100%|███████████████████████████████████████████| 10/10 [00:04<00:00,  2.32it/s]\n"
     ]
    },
    {
     "data": {
      "image/png": "[encoded data removed]",
      "text/plain": [
       "<Figure size 432x288 with 1 Axes>"
      ]
     },
     "metadata": {
      "needs_background": "light"
     },
     "output_type": "display_data"
    },
    {
     "data": {
      "image/png": "[encoded data removed]",
      "text/plain": [
       "<Figure size 432x288 with 1 Axes>"
      ]
     },
     "metadata": {
      "needs_background": "light"
     },
     "output_type": "display_data"
    },
    {
     "data": {
      "image/png": "[encoded data removed]",
      "text/plain": [
       "<Figure size 432x288 with 1 Axes>"
      ]
     },
     "metadata": {
      "needs_background": "light"
     },
     "output_type": "display_data"
    },
    {
     "data": {
      "image/png": "[encoded data removed]",
      "text/plain": [
       "<Figure size 432x288 with 1 Axes>"
      ]
     },
     "metadata": {
      "needs_background": "light"
     },
     "output_type": "display_data"
    },
    {
     "data": {
      "image/png": "[encoded data removed]",
      "text/plain": [
       "<Figure size 432x288 with 1 Axes>"
      ]
     },
     "metadata": {
      "needs_background": "light"
     },
     "output_type": "display_data"
    },
    {
     "data": {
      "image/png": "[encoded data removed]",
      "text/plain": [
       "<Figure size 432x288 with 1 Axes>"
      ]
     },
     "metadata": {
      "needs_background": "light"
     },
     "output_type": "display_data"
    }
   ],
   "source": [
    "# accumulation curves\n",
    "\n",
    "for genre, df in groups.items():\n",
    "    abundance = u.to_abundance(df['work'])\n",
    "    accumulation = species_accumulation(abundance, max_steps = 4000, n_iter = 10)\n",
    "    accumulation_curve(abundance, accumulation, \n",
    "                       xlabel = 'docs', ylabel = 'works',\n",
    "                       title = genre)\n",
    "    plt_name = '/Users/tonya/Documents/thesis1830s/22_02_poetry_collections_biblio/github_main/plots/02_'+genre+'.png'\n",
    "    plt.savefig(plt_name)"
   ]
  },
  {
   "cell_type": "markdown",
   "id": "47821bda",
   "metadata": {},
   "source": [
    "#### Comparison of different estimators (works)"
   ]
  },
  {
   "cell_type": "code",
   "execution_count": 13,
   "id": "33a73127",
   "metadata": {
    "scrolled": true
   },
   "outputs": [
    {
     "name": "stderr",
     "output_type": "stream",
     "text": [
      "100%|██████████████████████████████████████| 1000/1000 [00:01<00:00, 668.63it/s]\n",
      "100%|██████████████████████████████████████| 1000/1000 [00:01<00:00, 837.46it/s]\n",
      "100%|██████████████████████████████████████| 1000/1000 [00:01<00:00, 835.44it/s]\n",
      "100%|██████████████████████████████████████| 1000/1000 [00:01<00:00, 831.49it/s]\n",
      "100%|██████████████████████████████████████| 1000/1000 [00:01<00:00, 833.21it/s]\n",
      "100%|██████████████████████████████████████| 1000/1000 [00:01<00:00, 840.52it/s]\n",
      "100%|██████████████████████████████████████| 1000/1000 [00:01<00:00, 833.41it/s]\n",
      "100%|██████████████████████████████████████| 1000/1000 [00:01<00:00, 827.63it/s]\n",
      "  0%|                                          | 1/1000 [00:01<17:16,  1.04s/it]/Users/tonya/miniforge3/lib/python3.9/site-packages/copia/richness.py:127: UserWarning: Add-one smoothing for f4 = 0\n",
      "  warnings.warn(\"Add-one smoothing for f4 = 0\", UserWarning)\n",
      "100%|██████████████████████████████████████| 1000/1000 [00:01<00:00, 835.35it/s]\n",
      "  0%|                                          | 1/1000 [00:01<17:24,  1.05s/it]/Users/tonya/miniforge3/lib/python3.9/site-packages/copia/richness.py:127: UserWarning: Add-one smoothing for f4 = 0\n",
      "  warnings.warn(\"Add-one smoothing for f4 = 0\", UserWarning)\n",
      "100%|██████████████████████████████████████| 1000/1000 [00:01<00:00, 831.02it/s]\n",
      "  0%|                                          | 1/1000 [00:01<18:21,  1.10s/it]/Users/tonya/miniforge3/lib/python3.9/site-packages/copia/richness.py:127: UserWarning: Add-one smoothing for f4 = 0\n",
      "  warnings.warn(\"Add-one smoothing for f4 = 0\", UserWarning)\n",
      "100%|██████████████████████████████████████| 1000/1000 [00:01<00:00, 788.48it/s]\n",
      "100%|██████████████████████████████████████| 1000/1000 [00:01<00:00, 835.20it/s]\n",
      "100%|██████████████████████████████████████| 1000/1000 [00:01<00:00, 823.96it/s]\n",
      "100%|██████████████████████████████████████| 1000/1000 [00:01<00:00, 818.95it/s]\n",
      "  0%|                                          | 1/1000 [00:01<17:53,  1.07s/it]/Users/tonya/miniforge3/lib/python3.9/site-packages/copia/richness.py:185: UserWarning: Add-one smoothing for P2 = 0\n",
      "  warnings.warn(\"Add-one smoothing for P2 = 0\", UserWarning)\n",
      " 98%|██████████████████████████████████████▏| 979/1000 [00:01<00:00, 798.47it/s]\n",
      "100%|██████████████████████████████████████| 1000/1000 [00:01<00:00, 840.64it/s]\n",
      "100%|██████████████████████████████████████| 1000/1000 [00:01<00:00, 836.12it/s]\n",
      "100%|██████████████████████████████████████| 1000/1000 [00:01<00:00, 836.14it/s]\n"
     ]
    }
   ],
   "source": [
    "comp = []\n",
    "\n",
    "for estim in ['chao1', 'ichao1', 'egghe_proot']:\n",
    "    for genre, population in populations.items():\n",
    "        surv = survival_ratio(population, method = estim, n_iter = 1000)\n",
    "        comp.append([genre, estim, surv['survival'], surv['lci'], surv['uci']])"
   ]
  },
  {
   "cell_type": "code",
   "execution_count": 14,
   "id": "a87d43b1",
   "metadata": {},
   "outputs": [
    {
     "data": {
      "text/html": [
       "<div>\n",
       "<style scoped>\n",
       "    .dataframe tbody tr th:only-of-type {\n",
       "        vertical-align: middle;\n",
       "    }\n",
       "\n",
       "    .dataframe tbody tr th {\n",
       "        vertical-align: top;\n",
       "    }\n",
       "\n",
       "    .dataframe thead th {\n",
       "        text-align: right;\n",
       "    }\n",
       "</style>\n",
       "<table border=\"1\" class=\"dataframe\">\n",
       "  <thead>\n",
       "    <tr style=\"text-align: right;\">\n",
       "      <th></th>\n",
       "      <th>genre</th>\n",
       "      <th>estimator</th>\n",
       "      <th>survival_ratio</th>\n",
       "      <th>lower_ci</th>\n",
       "      <th>upper_ci</th>\n",
       "    </tr>\n",
       "  </thead>\n",
       "  <tbody>\n",
       "    <tr>\n",
       "      <th>0</th>\n",
       "      <td>Alm_</td>\n",
       "      <td>chao1</td>\n",
       "      <td>0.989035</td>\n",
       "      <td>0.840559</td>\n",
       "      <td>1.113961</td>\n",
       "    </tr>\n",
       "    <tr>\n",
       "      <th>12</th>\n",
       "      <td>Alm_</td>\n",
       "      <td>egghe_proot</td>\n",
       "      <td>0.998762</td>\n",
       "      <td>0.705079</td>\n",
       "      <td>1.217936</td>\n",
       "    </tr>\n",
       "    <tr>\n",
       "      <th>6</th>\n",
       "      <td>Alm_</td>\n",
       "      <td>ichao1</td>\n",
       "      <td>0.989035</td>\n",
       "      <td>0.827640</td>\n",
       "      <td>1.126410</td>\n",
       "    </tr>\n",
       "    <tr>\n",
       "      <th>1</th>\n",
       "      <td>Col_Lyr</td>\n",
       "      <td>chao1</td>\n",
       "      <td>0.898119</td>\n",
       "      <td>0.815295</td>\n",
       "      <td>0.973244</td>\n",
       "    </tr>\n",
       "    <tr>\n",
       "      <th>13</th>\n",
       "      <td>Col_Lyr</td>\n",
       "      <td>egghe_proot</td>\n",
       "      <td>0.868869</td>\n",
       "      <td>0.746659</td>\n",
       "      <td>0.991301</td>\n",
       "    </tr>\n",
       "  </tbody>\n",
       "</table>\n",
       "</div>"
      ],
      "text/plain": [
       "      genre    estimator  survival_ratio  lower_ci  upper_ci\n",
       "0      Alm_        chao1        0.989035  0.840559  1.113961\n",
       "12     Alm_  egghe_proot        0.998762  0.705079  1.217936\n",
       "6      Alm_       ichao1        0.989035  0.827640  1.126410\n",
       "1   Col_Lyr        chao1        0.898119  0.815295  0.973244\n",
       "13  Col_Lyr  egghe_proot        0.868869  0.746659  0.991301"
      ]
     },
     "execution_count": 14,
     "metadata": {},
     "output_type": "execute_result"
    }
   ],
   "source": [
    "comp_df = pd.DataFrame(comp, columns = ['genre', 'estimator', 'survival_ratio', 'lower_ci', 'upper_ci'])\n",
    "\n",
    "estimates = comp_df.sort_values(['genre', 'estimator'])\n",
    "estimates.head()"
   ]
  },
  {
   "cell_type": "code",
   "execution_count": 16,
   "id": "d751966f",
   "metadata": {},
   "outputs": [
    {
     "data": {
      "image/png": "[encoded data removed]",
      "text/plain": [
       "<Figure size 864x576 with 1 Axes>"
      ]
     },
     "metadata": {
      "needs_background": "light"
     },
     "output_type": "display_data"
    }
   ],
   "source": [
    "errors = np.array(list(zip(estimates['lower_ci'], estimates['upper_ci']))).T\n",
    "errors[0] = estimates['survival_ratio'] - errors[0]\n",
    "errors[1] -= estimates['survival_ratio']\n",
    "\n",
    "fig, ax = plt.subplots(figsize=(12, 8))\n",
    "\n",
    "genres = sorted(set(estimates['genre']))\n",
    "color_dict = {t: f\"C{i}\" for i, t in enumerate(genres)}\n",
    "labeled = {t:False for t in color_dict}\n",
    "\n",
    "for idx in range(len(estimates)):\n",
    "    genre = estimates['genre'].iloc[idx]\n",
    "    meth = estimates['estimator'].iloc[idx]\n",
    "    label = genre if not labeled[genre] else None\n",
    "    c = color_dict[genre]\n",
    "    labeled[genre] = True\n",
    "    ax.errorbar(idx, estimates['survival_ratio'].iloc[idx],\n",
    "        yerr=np.array([errors[:, idx]]).T,\n",
    "        fmt='.', c=color_dict[genre], label=label,\n",
    "        ms=12)\n",
    "\n",
    "ax.set_ylabel('Survival ratio (works)', fontsize=14)\n",
    "ax.set_xticks(np.arange(len(estimates)))\n",
    "ax.set_xticklabels(estimates['estimator'], rotation = 90)\n",
    "ax.tick_params(axis='x', which='minor', bottom=False)\n",
    "ax.tick_params(axis='y', which='minor', left=True)\n",
    "ax.legend(loc='upper center', ncol=len(populations), bbox_to_anchor=(0.5, 1.05), frameon=False, fontsize=14)\n",
    "\n",
    "plt.savefig(\"/Users/tonya/Documents/thesis1830s/22_02_poetry_collections_biblio/github_main/plots/02_methods_comparison.pdf\")"
   ]
  },
  {
   "cell_type": "code",
   "execution_count": null,
   "id": "3f6845b5",
   "metadata": {},
   "outputs": [],
   "source": []
  },
  {
   "cell_type": "code",
   "execution_count": null,
   "id": "032667fd",
   "metadata": {},
   "outputs": [],
   "source": []
  },
  {
   "cell_type": "markdown",
   "id": "9924f5d1",
   "metadata": {},
   "source": [
    "### Fast test: time differences for genres"
   ]
  },
  {
   "cell_type": "code",
   "execution_count": 17,
   "id": "b45cc038",
   "metadata": {},
   "outputs": [],
   "source": [
    "groups_t = {}\n",
    "df_t = None\n",
    "\n",
    "# import all separate .csv tables for the experiment as a dictionary of tables\n",
    "\n",
    "for fh in sorted(glob.glob('/Users/tonya/Documents/thesis1830s/22_02_poetry_collections_biblio/github_main/data/experiment/genres_decades/*.csv')):\n",
    "    df_t = pd.read_csv(fh)\n",
    "    df_t = df_t.iloc[:,1:]\n",
    "    genre = os.path.basename(fh).replace('.csv','').replace('exp_','').lower()\n",
    "    groups_t[genre] = df_t[['work', 'signature']]"
   ]
  },
  {
   "cell_type": "code",
   "execution_count": 18,
   "id": "dd8d46f7",
   "metadata": {
    "scrolled": true
   },
   "outputs": [
    {
     "data": {
      "text/plain": [
       "{'col_lyr_1830':                                                   work   signature\n",
       " 0    5_Батюшков К._Сочинения в прозе и стихах Конст...       nlr_1\n",
       " 1    5_Батюшков К._Сочинения в прозе и стихах Конст...         rsl\n",
       " 2    5_Батюшков К._Сочинения в прозе и стихах Конст...       roz_1\n",
       " 3    5_Батюшков К._Сочинения в прозе и стихах Конст...  us_harvard\n",
       " 4    5_Батюшков К._Сочинения в прозе и стихах Конст...      cz_slk\n",
       " ..                                                 ...         ...\n",
       " 383  634_Крылов И._Басни Ивана Крылова : В 8 кн. / ...       nlr_1\n",
       " 384  634_Крылов И._Басни Ивана Крылова : В 8 кн. / ...         rsl\n",
       " 385  639_NA_Утренняя звезда : Собрание статей в сти...       nlr_1\n",
       " 386  639_NA_Утренняя звезда : Собрание статей в сти...       fi_sl\n",
       " 387  684_Хлебников Н._Подарок друзьям в Новый год :...       nlr_1\n",
       " \n",
       " [388 rows x 2 columns],\n",
       " 'col_lyr_1840':                                                   work signature\n",
       " 0    303_Анордист Н._Альманах на 1840 год / Н. Анор...     nlr_1\n",
       " 1    303_Анордист Н._Альманах на 1840 год / Н. Анор...       rsl\n",
       " 2    303_Анордист Н._Альманах на 1840 год / Н. Анор...     fi_sl\n",
       " 3    312_Демидов М.А._Дельные безделки: Стихотворен...     nlr_1\n",
       " 4    312_Демидов М.А._Дельные безделки: Стихотворен...       rsl\n",
       " ..                                                 ...       ...\n",
       " 236  648_NA_Метеор : [Сб. стихотворений] : На 1845 ...     nlr_1\n",
       " 237  648_NA_Метеор : [Сб. стихотворений] : На 1845 ...       rsl\n",
       " 238  648_NA_Метеор : [Сб. стихотворений] : На 1845 ...     fi_sl\n",
       " 239            720_NA_Рассвет : Соч. в стихах и прозе.     nlr_1\n",
       " 240            720_NA_Рассвет : Соч. в стихах и прозе.       rsl\n",
       " \n",
       " [241 rows x 2 columns],\n",
       " 'col_lyr_1845':                                                   work signature\n",
       " 0     526_Аскоченский В._Стихотворения В. Аскоченского     nlr_1\n",
       " 1     526_Аскоченский В._Стихотворения В. Аскоченского       rsl\n",
       " 2     526_Аскоченский В._Стихотворения В. Аскоченского     roz_1\n",
       " 3     526_Аскоченский В._Стихотворения В. Аскоченского     fi_sl\n",
       " 4    527_Григорьев А._Стихотворения Аполлона Григор...     nlr_1\n",
       " ..                                                 ...       ...\n",
       " 158  823_Додаев-Магарский И._Стихотворения / [Соч.]...     nlr_1\n",
       " 159               824_Г.Г.Р._Стихотворения / Г.Г.Р. 1.     nlr_1\n",
       " 160     832_Неудачев И._Стихотворения Иосафа Неудачева     nlr_1\n",
       " 161  843_Севостьянов К._Досуги в стихах и прозе боб...     nlr_1\n",
       " 162  843_Севостьянов К._Досуги в стихах и прозе боб...       rsl\n",
       " \n",
       " [163 rows x 2 columns],\n",
       " 'sep_nar_1830':                                                   work signature\n",
       " 0    1_Артемьев П._Страдалец: Повесть в стихах, взя...     nlr_1\n",
       " 1    1_Артемьев П._Страдалец: Повесть в стихах, взя...       rsl\n",
       " 2    1_Артемьев П._Страдалец: Повесть в стихах, взя...     roz_1\n",
       " 3    6_Александр Б._Милана : Русская баллада, или С...     nlr_1\n",
       " 4    6_Александр Б._Милана : Русская баллада, или С...     roz_1\n",
       " ..                                                 ...       ...\n",
       " 172  345_Олин В._Странный бал. Повесть из рассказов...    lt_vul\n",
       " 173  351_Глинка Ф.Н._1812 год : (Отр. из рассказа) ...     nlr_1\n",
       " 174  351_Глинка Ф.Н._1812 год : (Отр. из рассказа) ...       rsl\n",
       " 175  679_Краснопольский Н._Эдуард : Повесть [в стих...     nlr_1\n",
       " 176  679_Краснопольский Н._Эдуард : Повесть [в стих...    cz_slk\n",
       " \n",
       " [177 rows x 2 columns],\n",
       " 'sep_nar_1840':                                                   work signature\n",
       " 0    302_Дьячков С._Деньги : Комич. поэма / Соч. Се...     nlr_1\n",
       " 1    302_Дьячков С._Деньги : Комич. поэма / Соч. Се...       rsl\n",
       " 2    307_Колотенко Н._Граф Томский : Роман в стихах...     nlr_1\n",
       " 3    307_Колотенко Н._Граф Томский : Роман в стихах...       rsl\n",
       " 4    308_Федоров Н.Н._Писатель : Повесть в стихах :...     nlr_1\n",
       " ..                                                 ...       ...\n",
       " 110  718_И. Руссо_Сказка об Игнаце Разувае, о прекр...     nlr_1\n",
       " 111  721_Гребенка Е._Богдан : Сцены из жизни малоро...     nlr_1\n",
       " 112  730_Зотов В._Шкипер : Ист. сцены 1713 г., в ст...     nlr_1\n",
       " 113  730_Зотов В._Шкипер : Ист. сцены 1713 г., в ст...       rsl\n",
       " 114  731_Пальмов Ф._Иван Болван : [Повесть в стихах...     nlr_1\n",
       " \n",
       " [115 rows x 2 columns],\n",
       " 'sep_nar_1845':                                                   work signature\n",
       " 0    531_Потапов В._Кузнецкий мост : (В стихах) / С...     nlr_1\n",
       " 1    531_Потапов В._Кузнецкий мост : (В стихах) / С...       rsl\n",
       " 2    531_Потапов В._Кузнецкий мост : (В стихах) / С...     roz_1\n",
       " 3    534_Ваненко И._Бричка, или Обратный путь с Пар...     nlr_1\n",
       " 4    534_Ваненко И._Бричка, или Обратный путь с Пар...       rsl\n",
       " ..                                                 ...       ...\n",
       " 99   831_NA_Сказка о сыне откупщика, Иване-Найденыш...     nlr_1\n",
       " 100  835_Вельтман А._Златой и Бела : Чеш. сказка : ...     nlr_1\n",
       " 101  835_Вельтман А._Златой и Бела : Чеш. сказка : ...       rsl\n",
       " 102  836_ъ...а Е.К._Женитьба царя Михаила Федорович...     nlr_1\n",
       " 103  838_Потапов В._Кот в сапогах : Рус. нар. сказк...     nlr_1\n",
       " \n",
       " [104 rows x 2 columns]}"
      ]
     },
     "execution_count": 18,
     "metadata": {},
     "output_type": "execute_result"
    }
   ],
   "source": [
    "groups_t"
   ]
  },
  {
   "cell_type": "code",
   "execution_count": 26,
   "id": "7f5c4a97",
   "metadata": {},
   "outputs": [
    {
     "data": {
      "text/html": [
       "<div>\n",
       "<style scoped>\n",
       "    .dataframe tbody tr th:only-of-type {\n",
       "        vertical-align: middle;\n",
       "    }\n",
       "\n",
       "    .dataframe tbody tr th {\n",
       "        vertical-align: top;\n",
       "    }\n",
       "\n",
       "    .dataframe thead th {\n",
       "        text-align: right;\n",
       "    }\n",
       "</style>\n",
       "<table border=\"1\" class=\"dataframe\">\n",
       "  <thead>\n",
       "    <tr style=\"text-align: right;\">\n",
       "      <th></th>\n",
       "      <th>group</th>\n",
       "      <th>f1</th>\n",
       "      <th>f2</th>\n",
       "      <th>f3</th>\n",
       "      <th>f4</th>\n",
       "      <th>S</th>\n",
       "      <th>n</th>\n",
       "      <th>lib</th>\n",
       "    </tr>\n",
       "  </thead>\n",
       "  <tbody>\n",
       "    <tr>\n",
       "      <th>0</th>\n",
       "      <td>col_lyr_1830</td>\n",
       "      <td>21</td>\n",
       "      <td>32</td>\n",
       "      <td>24</td>\n",
       "      <td>24</td>\n",
       "      <td>123</td>\n",
       "      <td>388</td>\n",
       "      <td>10</td>\n",
       "    </tr>\n",
       "    <tr>\n",
       "      <th>1</th>\n",
       "      <td>col_lyr_1840</td>\n",
       "      <td>20</td>\n",
       "      <td>18</td>\n",
       "      <td>14</td>\n",
       "      <td>16</td>\n",
       "      <td>83</td>\n",
       "      <td>241</td>\n",
       "      <td>9</td>\n",
       "    </tr>\n",
       "    <tr>\n",
       "      <th>2</th>\n",
       "      <td>col_lyr_1845</td>\n",
       "      <td>22</td>\n",
       "      <td>14</td>\n",
       "      <td>17</td>\n",
       "      <td>10</td>\n",
       "      <td>67</td>\n",
       "      <td>163</td>\n",
       "      <td>8</td>\n",
       "    </tr>\n",
       "    <tr>\n",
       "      <th>3</th>\n",
       "      <td>sep_nar_1830</td>\n",
       "      <td>10</td>\n",
       "      <td>19</td>\n",
       "      <td>13</td>\n",
       "      <td>13</td>\n",
       "      <td>62</td>\n",
       "      <td>177</td>\n",
       "      <td>9</td>\n",
       "    </tr>\n",
       "    <tr>\n",
       "      <th>4</th>\n",
       "      <td>sep_nar_1840</td>\n",
       "      <td>29</td>\n",
       "      <td>25</td>\n",
       "      <td>6</td>\n",
       "      <td>2</td>\n",
       "      <td>64</td>\n",
       "      <td>115</td>\n",
       "      <td>9</td>\n",
       "    </tr>\n",
       "    <tr>\n",
       "      <th>5</th>\n",
       "      <td>sep_nar_1845</td>\n",
       "      <td>20</td>\n",
       "      <td>20</td>\n",
       "      <td>13</td>\n",
       "      <td>0</td>\n",
       "      <td>54</td>\n",
       "      <td>104</td>\n",
       "      <td>6</td>\n",
       "    </tr>\n",
       "  </tbody>\n",
       "</table>\n",
       "</div>"
      ],
      "text/plain": [
       "          group  f1  f2  f3  f4    S    n  lib\n",
       "0  col_lyr_1830  21  32  24  24  123  388   10\n",
       "1  col_lyr_1840  20  18  14  16   83  241    9\n",
       "2  col_lyr_1845  22  14  17  10   67  163    8\n",
       "3  sep_nar_1830  10  19  13  13   62  177    9\n",
       "4  sep_nar_1840  29  25   6   2   64  115    9\n",
       "5  sep_nar_1845  20  20  13   0   54  104    6"
      ]
     },
     "execution_count": 26,
     "metadata": {},
     "output_type": "execute_result"
    }
   ],
   "source": [
    "# Basic stats calculation\n",
    "\n",
    "stats_t = []\n",
    "\n",
    "for genre, df in groups_t.items():\n",
    "    abundance = u.to_abundance(df['work']) # convert to abundance data\n",
    "    s = u.basic_stats(abundance) # basic stats function\n",
    "    d = {'group': genre}\n",
    "    # take f3 and f4 for well-survived groups\n",
    "    for k in ('f1', 'f2', 'f3', 'f4', 'S', 'n'):\n",
    "        d[k] = s[k]\n",
    "    d['lib'] = len(set(df['signature']))\n",
    "    stats_t.append(d)\n",
    "    \n",
    "# Conversion to df for easier use\n",
    "stats_t_df = pd.DataFrame(stats_t)\n",
    "stats_t_df"
   ]
  },
  {
   "cell_type": "code",
   "execution_count": 27,
   "id": "79590a97",
   "metadata": {},
   "outputs": [
    {
     "name": "stderr",
     "output_type": "stream",
     "text": [
      "100%|██████████████████████████████████████| 1000/1000 [00:01<00:00, 714.29it/s]\n",
      "100%|██████████████████████████████████████| 1000/1000 [00:01<00:00, 837.56it/s]\n",
      "100%|██████████████████████████████████████| 1000/1000 [00:01<00:00, 840.67it/s]\n",
      "100%|██████████████████████████████████████| 1000/1000 [00:01<00:00, 841.48it/s]\n",
      "100%|██████████████████████████████████████| 1000/1000 [00:01<00:00, 843.17it/s]\n",
      "100%|██████████████████████████████████████| 1000/1000 [00:01<00:00, 843.13it/s]\n"
     ]
    }
   ],
   "source": [
    "populations_t = {}\n",
    "\n",
    "for genre, df in groups_t.items():\n",
    "    abundance = u.to_abundance(df_t['work'])\n",
    "    populations_t[genre.title()] = abundance\n",
    "    \n",
    "wsurvival_t = {}\n",
    "for genre, population in populations_t.items():\n",
    "    wsurvival_t[genre] = survival_ratio(population, method = 'chao1')"
   ]
  },
  {
   "cell_type": "code",
   "execution_count": 29,
   "id": "5abfe602",
   "metadata": {},
   "outputs": [
    {
     "data": {
      "image/png": "[encoded data removed]",
      "text/plain": [
       "<Figure size 432x288 with 1 Axes>"
      ]
     },
     "metadata": {
      "needs_background": "light"
     },
     "output_type": "display_data"
    }
   ],
   "source": [
    "surv_density_w_t = multi_kde(wsurvival_t)\n",
    "surv_density_w_t.set_xlabel('Survival ratio (works)')\n",
    "surv_density_w_t.set_yticklabels([])\n",
    "surv_density_w_t.tick_params(axis = 'y', which = 'both', left = False)\n",
    "surv_density_w_t.spines['left'].set_visible(False)\n",
    "\n",
    "plt.savefig(\"/Users/tonya/Documents/thesis1830s/22_02_poetry_collections_biblio/github_main/plots/02_work_surv_density_periods.pdf\")"
   ]
  },
  {
   "cell_type": "code",
   "execution_count": null,
   "id": "6504cb1e",
   "metadata": {},
   "outputs": [],
   "source": []
  }
 ],
 "metadata": {
  "kernelspec": {
   "display_name": "Python 3 (ipykernel)",
   "language": "python",
   "name": "python3"
  },
  "language_info": {
   "codemirror_mode": {
    "name": "ipython",
    "version": 3
   },
   "file_extension": ".py",
   "mimetype": "text/x-python",
   "name": "python",
   "nbconvert_exporter": "python",
   "pygments_lexer": "ipython3",
   "version": "3.9.2"
  }
 },
 "nbformat": 4,
 "nbformat_minor": 5
}
